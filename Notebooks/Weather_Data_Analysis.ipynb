{
 "cells": [
  {
   "cell_type": "markdown",
   "id": "68f1f9eb",
   "metadata": {},
   "source": [
    "# 🌦️ WEATHER DATA ANALYSIS PROJECT\n",
    "**Administrator** : GOURAGOPAL MOHAPATRA\n",
    "- **Date** : 31st August 2025\n",
    "- **Objective** : Comprehensive analysis of weather patterns across 8 Indian cities.\n",
    "\n",
    "## 📋 **Quick Project Summary:**\n",
    "- **Dataset**: 8 Indian cities weather data (2024)\n",
    "- **Analysis**: Temperature, rainfall, humidity, wind patterns\n",
    "- **Key Finding**: Ahmedabad hottest (avg), Kolkata wettest city\n",
    "- **Deliverables**: 3 professional visualizations + comprehensive insights\n",
    "\n",
    "---"
   ]
  },
  {
   "cell_type": "markdown",
   "id": "ef65824a",
   "metadata": {},
   "source": [
    "## 📑 TABLE OF CONTENTS\n",
    "1. [Project Overview & Objectives](#1-project-overview--objectives)\n",
    "2. [Data Loading & Initial Exploration](#2-data-loading--initial-exploration)\n",
    "3. [Data Cleaning & Preprocessing](#3-data-cleaning--preprocessing)\n",
    "4. [Exploratory Data Analysis](#4-exploratory-data-analysis)\n",
    "5. [Statistical Analysis](#5-statistical-analysis)\n",
    "6. [Data Visualization](#6-data-visualization)\n",
    "7. [Insights & Conclusions](#7-insights--conclusions)\n",
    "8. [Future Improvements](#8-future-improvements)\n",
    "\n",
    "---"
   ]
  },
  {
   "cell_type": "code",
   "execution_count": 144,
   "id": "c1d74cad",
   "metadata": {},
   "outputs": [
    {
     "name": "stdout",
     "output_type": "stream",
     "text": [
      "🌤️ Weather Data Analysis Project - Day 13\n",
      "==================================================\n",
      "📊 Dataset loaded successfully!\n",
      "📏 Dataset shape -> (2920, 8)\n",
      "🏙️ Cities included -> Delhi, Mumbai, Bangalore, Chennai, Kolkata, Hyderabad, Ahmedabad, Pune\n",
      "📅 Date range -> 2024-01-01 to 2024-12-30\n",
      "📋 Columns -> Date, City, Temperature_C, Humidity_%, Rainfall_mm, Wind_Speed_kmh, Pressure_hPa, Weather_Condition\n",
      "\n",
      "📋 First 5 rows of data:\n",
      "         Date   City  Temperature_C  Humidity_%  Rainfall_mm  Wind_Speed_kmh  \\\n",
      "0  2024-01-01  Delhi           19.6        70.9          0.2             7.2   \n",
      "1  2024-01-02  Delhi           26.9        69.4          0.0            10.2   \n",
      "2  2024-01-03  Delhi           22.4        64.6          0.0            10.1   \n",
      "3  2024-01-04  Delhi           26.8        74.5          0.0             8.7   \n",
      "4  2024-01-05  Delhi           20.5        45.9          0.0             8.0   \n",
      "\n",
      "   Pressure_hPa Weather_Condition  \n",
      "0        1030.6            Cloudy  \n",
      "1        1033.5     Partly Cloudy  \n",
      "2        1015.2             Clear  \n",
      "3         986.0             Clear  \n",
      "4        1022.4             Clear  \n",
      "\n",
      "📊 Basic dataset info:\n",
      "<class 'pandas.core.frame.DataFrame'>\n",
      "RangeIndex: 2920 entries, 0 to 2919\n",
      "Data columns (total 8 columns):\n",
      " #   Column             Non-Null Count  Dtype  \n",
      "---  ------             --------------  -----  \n",
      " 0   Date               2920 non-null   object \n",
      " 1   City               2920 non-null   object \n",
      " 2   Temperature_C      2920 non-null   float64\n",
      " 3   Humidity_%         2920 non-null   float64\n",
      " 4   Rainfall_mm        2920 non-null   float64\n",
      " 5   Wind_Speed_kmh     2920 non-null   float64\n",
      " 6   Pressure_hPa       2920 non-null   float64\n",
      " 7   Weather_Condition  2920 non-null   object \n",
      "dtypes: float64(5), object(3)\n",
      "memory usage: 182.6+ KB\n",
      "None\n"
     ]
    }
   ],
   "source": [
    "# Weather Data Analysis Project\n",
    "# Day 13: Initial Setup and Data Loading\n",
    "\n",
    "import pandas as pd\n",
    "import numpy as np\n",
    "import matplotlib.pyplot as plt\n",
    "import os\n",
    "\n",
    "print(\"🌤️ Weather Data Analysis Project - Day 13\")\n",
    "print(\"=\" * 50)\n",
    "\n",
    "# Load the weather dataset\n",
    "df = pd.read_csv('../data/weather_data_8_cities_2024.csv')\n",
    "\n",
    "print(f\"📊 Dataset loaded successfully!\")\n",
    "print(f\"📏 Dataset shape -> {df.shape}\")\n",
    "print(f\"🏙️ Cities included -> {', '.join(df['City'].unique())}\")\n",
    "print(f\"📅 Date range -> {df['Date'].min()} to {df['Date'].max()}\")\n",
    "print(f\"📋 Columns -> {', '.join(df.columns)}\")\n",
    "\n",
    "print(\"\\n📋 First 5 rows of data:\")\n",
    "print(df.head())\n",
    "\n",
    "print(\"\\n📊 Basic dataset info:\")\n",
    "print(df.info())"
   ]
  },
  {
   "cell_type": "markdown",
   "id": "cc45b937",
   "metadata": {},
   "source": [
    "# WEATHER DATA ANALYSIS PROJECT\n",
    "\n",
    "## Project Overview\n",
    "- **Duration**: 9 days (Aug 23-31, 2025)\n",
    "- **Data**: 8 Indian cities, 365 days, 8 weather parameters\n",
    "- **Goal**: Analyze weather patterns and create insights\n",
    "\n",
    "## Dataset Information\n",
    "- **Cities**: Delhi, Mumbai, Bangalore, Chennai, Kolkata, Hyderabad, Ahmedabad, Pune\n",
    "- **Parameters**: Temperature, Humidity, Rainfall, Wind Speed, Pressure, Weather Condition\n",
    "- **Time Period**: Full year 2024 (Jan 1 - Dec 31)\n",
    "- **Total Records**: 2,920\n",
    "\n",
    "## Analysis Questions (To be answered)\n",
    "1. Which city has the highest average temperature?\n",
    "2. What are the rainfall patterns across different cities?\n",
    "3. How does humidity vary by season?\n",
    "4. Which months show extreme weather conditions?\n",
    "5. Are there correlations between different weather parameters?\n",
    "\n",
    "## Project Timeline\n",
    "- Day 13: Setup and data loading ✅\n",
    "- Day 14: Data exploration and scope definition\n",
    "- Days 15-17: Visualization and analysis\n",
    "- Days 18-21: Advanced analysis and finalization"
   ]
  },
  {
   "cell_type": "code",
   "execution_count": 145,
   "id": "160401dc",
   "metadata": {},
   "outputs": [
    {
     "name": "stdout",
     "output_type": "stream",
     "text": [
      "📊 Dataset shape -> (2920, 8)\n",
      "🏙️ Cities -> 8\n",
      "✅ Ready to continue Day 14!\n"
     ]
    }
   ],
   "source": [
    "# Quick check that everything is working\n",
    "print(f\"📊 Dataset shape -> {df.shape}\")\n",
    "print(f\"🏙️ Cities -> {df['City'].nunique()}\")\n",
    "print(\"✅ Ready to continue Day 14!\")"
   ]
  },
  {
   "cell_type": "markdown",
   "id": "fddc8072",
   "metadata": {},
   "source": [
    "# 🔍 RESEARCH QUESTIONS TO ANSWER\n",
    "\n",
    "## Temperature Analysis Questions:\n",
    "1.  Which city has the highest avarage tempreture throughout the year?\n",
    "2.  Which city shows the most tempreture variation (biggest difference between hotest and coldest days)?\n",
    "3.  what are the extreme tempreture events across all cities?\n",
    "\n",
    "## Rainfall Pattern Questions:\n",
    "4. which city receives the most rainfall annually?\n",
    "5. How do monsoon patterns (June-September) differ between North and South India?\n",
    "6. Which months are the wettest and driest for each region?\n",
    "\n",
    "## Weather Relationship Questions:\n",
    "7. Is there a correlation between tempreture and humidity across cities?\n",
    "8. How does the wind speed relate to different weather conditions?\n",
    "9. Which cities experience the most diverse waeathewr conditions?\n",
    "\n",
    "## Regional Comparison Questions:\n",
    "10. How do weather patterns differ between North India (Delhi) and South India (Chennai, Bangalore)?\n",
    "11. Which season shows the most consistent weather patterns across all cities?\n",
    "12. What are the unique cimate Characteristics that defines each city?\n"
   ]
  },
  {
   "cell_type": "markdown",
   "id": "8efbf9dd",
   "metadata": {},
   "source": [
    "# 🎯 ANALYSIS PRIORITY ORDER\n",
    "\n",
    "## 🔥 HIGH PRIORITY (Days 15-16):\n",
    "**These questions will give us the biggest insights and are easier to visualize:**\n",
    "\n",
    "### Priority 1: Basic Comparisons\n",
    "- **Question 1**: Which city has the highest avarage tempreture?\n",
    "  - *Why first: Simple calculation, great for first visualization*\n",
    "- **Question 4**: Which city receives most rainfall?\n",
    "  - *Why first: Clear comparison, good bar chart opportunity*\n",
    "\n",
    "### Priority 2: Patterns & Trends  \n",
    "- **Question 5**: How do monsoon patterns differ between North/South India?\n",
    "  - *Why second: Shows seasonal patterns, good for line charts*\n",
    "- **Question 10**: Weather differences between North (Delhi) vs South (Chennai, Bangalore)?\n",
    "  - *Why second: Regional comparison, multiple visualization opportunities*\n",
    "\n",
    "## 🎯 MEDIUM PRIORITY (Days 17-18):\n",
    "**These require more complex analysis:**\n",
    "### Priority 3: Correlations & Relationships\n",
    "- **Question 7**: Temperature vs Humidity correlation\n",
    "- **Question 8**: Wind speed vs Weather conditions  \n",
    "- **Question 2**: Temperature variation by city\n",
    "\n",
    "## 🎯 LOW PRIORITY (Days 19-20):\n",
    "**Advanced analysis for final insights:**\n",
    "\n",
    "### Priority 4: Advanced Patterns\n",
    "- **Question 11**: Seasonal consistency across cities\n",
    "- **Question 12**: Unique climate characteristics\n",
    "- **Question 3, 6, 9**: Extreme events and detailed patterns\n",
    "\n",
    "---"
   ]
  },
  {
   "cell_type": "markdown",
   "id": "16e4a48a",
   "metadata": {},
   "source": [
    "# ✅ SUCCESS CRITERIA FOR EACH ANALYSIS\n",
    "\n",
    "## 🔥 HIGH PRIORITY SUCCESS CRITERIA:\n",
    "\n",
    "### Priority 1: Basic Comparisons\n",
    "**Question 1: Which city has highest average temperature?**\n",
    "- ✅ **Success**: Clear bar chart showing average temperature by city\n",
    "- ✅ **Success**: Exact temperature values displayed\n",
    "- ✅ **Success**: Winner clearly identified with reasoning\n",
    "\n",
    "**Question 4: Which city receives most rainfall?**\n",
    "- ✅ **Success**: Bar chart showing total annual rainfall by city\n",
    "- ✅ **Success**: Monthly rainfall patterns shown\n",
    "- ✅ **Success**: Clear comparison between wettest vs driest cities\n",
    "\n",
    "### Priority 2: Patterns & Trends\n",
    "**Question 5: Monsoon patterns (North vs South India)**\n",
    "- ✅ **Success**: Line chart showing June-Sept rainfall for each region\n",
    "- ✅ **Success**: Clear comparison between Delhi vs Chennai/Bangalore\n",
    "- ✅ **Success**: Monsoon peak months identified\n",
    "\n",
    "**Question 10: Regional weather differences**\n",
    "- ✅ **Success**: Multi-panel comparison charts (temperature, rainfall, humidity)\n",
    "- ✅ **Success**: Key differences summarized in bullet points\n",
    "- ✅ **Success**: Seasonal patterns clearly visualized\n",
    "\n",
    "## 🎯 MEDIUM PRIORITY SUCCESS CRITERIA:\n",
    "\n",
    "### Priority 3: Correlations & Relationships\n",
    "**Question 7: Temperature vs Humidity correlation**\n",
    "- ✅ **Success**: Scatter plot with correlation coefficient\n",
    "- ✅ **Success**: Trend line showing relationship\n",
    "- ✅ **Success**: Analysis by city/season\n",
    "\n",
    "## 📊 VISUALIZATION SUCCESS CRITERIA:\n",
    "- **All charts must have**: Clear titles, axis labels, legends\n",
    "- **Color scheme**: Consistent and professional\n",
    "- **Data labels**: Key values clearly visible\n",
    "- **Insights**: Every chart accompanied by 2-3 key findings\n",
    "\n",
    "## 📝 DOCUMENTATION SUCCESS CRITERIA:\n",
    "- **Each analysis**: Markdown explanation before code\n",
    "- **Each result**: Summary of findings after visualization\n",
    "- **Final report**: Executive summary with top 5 insights\n",
    "\n",
    "---\n"
   ]
  },
  {
   "cell_type": "markdown",
   "id": "18ba28d5",
   "metadata": {},
   "source": [
    "\n",
    " # *Ready to dive into the actual data exploration!*"
   ]
  },
  {
   "cell_type": "markdown",
   "id": "0a40b6b2",
   "metadata": {},
   "source": [
    "# 🌦️ WEATHER DATA ANALYSIS PROJECT\n",
    "\n",
    "## 📊 Project Overview\n",
    "- **Dataset**: Multi-city Indian weather data\n",
    "- **Cities**: Delhi, Mumbai, Chennai, Kolkata, Bangalore\n",
    "- **Time Period**: Full year weather patterns\n",
    "- **Goal**: Comprehensive climate analysis and insights\n",
    "\n",
    "## 🎯 Key Deliverables\n",
    "1. Temperature analysis across cities\n",
    "2. Rainfall pattern identification\n",
    "3. Regional weather comparisons\n",
    "4. Actionable climate insights\n",
    "\n",
    "---"
   ]
  },
  {
   "cell_type": "markdown",
   "id": "f4a4fe45",
   "metadata": {},
   "source": [
    "# 📥 DATA IMPORT & INITIAL SETUP\n",
    "\n",
    "## Loading Required Libraries"
   ]
  },
  {
   "cell_type": "code",
   "execution_count": 146,
   "id": "a1fe814b",
   "metadata": {},
   "outputs": [
    {
     "name": "stdout",
     "output_type": "stream",
     "text": [
      "✅ All libraries imported successfully!\n"
     ]
    }
   ],
   "source": [
    "import pandas as pd\n",
    "import numpy as np\n",
    "import matplotlib.pyplot as plt\n",
    "import seaborn as sns\n",
    "from datetime import datetime\n",
    "import warnings\n",
    "warnings.filterwarnings('ignore')\n",
    "\n",
    "# Set plotting style\n",
    "plt.style.use('default')\n",
    "sns.set_palette(\"husl\")\n",
    "\n",
    "print(\"✅ All libraries imported successfully!\")"
   ]
  },
  {
   "cell_type": "markdown",
   "id": "af780315",
   "metadata": {},
   "source": [
    "# 📂 DATA LOADING & VERIFICATION"
   ]
  },
  {
   "cell_type": "code",
   "execution_count": 147,
   "id": "5c2de053",
   "metadata": {},
   "outputs": [
    {
     "name": "stdout",
     "output_type": "stream",
     "text": [
      "📊 Dataset shape -> (2920, 8)\n",
      "🏙️ Cities -> 8\n",
      "📅 Date range -> 2024-01-01 to 2024-12-30\n",
      "✅ Data loaded successfully!\n",
      "\n",
      "🔍 First few rows:\n",
      "         Date   City  Temperature_C  Humidity_%  Rainfall_mm  Wind_Speed_kmh  \\\n",
      "0  2024-01-01  Delhi           19.6        70.9          0.2             7.2   \n",
      "1  2024-01-02  Delhi           26.9        69.4          0.0            10.2   \n",
      "2  2024-01-03  Delhi           22.4        64.6          0.0            10.1   \n",
      "\n",
      "   Pressure_hPa Weather_Condition  \n",
      "0        1030.6            Cloudy  \n",
      "1        1033.5     Partly Cloudy  \n",
      "2        1015.2             Clear  \n"
     ]
    }
   ],
   "source": [
    "# Load the weather dataset from Data folder\n",
    "df = pd.read_csv('../Data/weather_data_8_cities_2024.csv')\n",
    "\n",
    "# Quick verification\n",
    "print(f\"📊 Dataset shape -> {df.shape}\")\n",
    "print(f\"🏙️ Cities -> {df['City'].nunique()}\")\n",
    "print(f\"📅 Date range -> {df['Date'].min()} to {df['Date'].max()}\")\n",
    "print(\"✅ Data loaded successfully!\")\n",
    "\n",
    "# Quick preview\n",
    "print(f\"\\n🔍 First few rows:\")\n",
    "print(df.head(3))"
   ]
  },
  {
   "cell_type": "markdown",
   "id": "769a60d4",
   "metadata": {},
   "source": [
    "# 🔍 DATA CLEANING & PREPROCESSING\n",
    "*This section will handle missing values, data types, and quality checks*\n",
    "\n",
    "---\n",
    "\n",
    "# 📊 EXPLORATORY DATA ANALYSIS  \n",
    "*This section will contain our statistical summaries and initial insights*\n",
    "\n",
    "---\n",
    "\n",
    "# 📈 DETAILED ANALYSIS & INSIGHTS\n",
    "*This section will answer our priority research questions*\n",
    "\n",
    "---\n",
    "\n",
    "# 🎨 ADVANCED VISUALIZATIONS\n",
    "*This section will contain our professional charts and dashboards*\n",
    "\n",
    "---\n",
    "\n",
    "# 📝 FINAL INSIGHTS & CONCLUSIONS\n",
    "*This section will summarize key findings and actionable insights*"
   ]
  },
  {
   "cell_type": "markdown",
   "id": "be4005c7",
   "metadata": {},
   "source": [
    "# 🔍 DATA CLEANING & PREPROCESSING"
   ]
  },
  {
   "cell_type": "code",
   "execution_count": 148,
   "id": "22f14505",
   "metadata": {},
   "outputs": [
    {
     "name": "stdout",
     "output_type": "stream",
     "text": [
      "✅ All libraries imported successfully!\n",
      "📊 using matplotlib for visualizations\n"
     ]
    }
   ],
   "source": [
    "import pandas as pd\n",
    "import numpy as np\n",
    "import matplotlib.pyplot as plt\n",
    "import seaborn as sns\n",
    "from datetime import datetime\n",
    "import warnings\n",
    "warnings.filterwarnings('ignore')\n",
    "\n",
    "plt.style.use('default')\n",
    "\n",
    "print(\"✅ All libraries imported successfully!\")\n",
    "print(\"📊 using matplotlib for visualizations\")\n"
   ]
  },
  {
   "cell_type": "code",
   "execution_count": 149,
   "id": "bfbb329b",
   "metadata": {},
   "outputs": [
    {
     "name": "stdout",
     "output_type": "stream",
     "text": [
      "📊 Dataset shape -> (2920, 8)\n",
      "🏙️ Cities -> 8\n",
      "📅 Date range -> 2024-01-01 to 2024-12-30\n",
      "✅ Data loaded successfully!\n",
      "\n",
      "🔍 First few rows:\n",
      "         Date   City  Temperature_C  Humidity_%  Rainfall_mm  Wind_Speed_kmh  \\\n",
      "0  2024-01-01  Delhi           19.6        70.9          0.2             7.2   \n",
      "1  2024-01-02  Delhi           26.9        69.4          0.0            10.2   \n",
      "2  2024-01-03  Delhi           22.4        64.6          0.0            10.1   \n",
      "\n",
      "   Pressure_hPa Weather_Condition  \n",
      "0        1030.6            Cloudy  \n",
      "1        1033.5     Partly Cloudy  \n",
      "2        1015.2             Clear  \n"
     ]
    }
   ],
   "source": [
    "# Load the weather dataset\n",
    "df = pd.read_csv('../Data/weather_data_8_cities_2024.csv')\n",
    "\n",
    "# Quick verification\n",
    "print(f\"📊 Dataset shape -> {df.shape}\")\n",
    "print(f\"🏙️ Cities -> {df['City'].nunique()}\")\n",
    "print(f\"📅 Date range -> {df['Date'].min()} to {df['Date'].max()}\")\n",
    "print(\"✅ Data loaded successfully!\")\n",
    "\n",
    "# Quick preview\n",
    "print(f\"\\n🔍 First few rows:\")\n",
    "print(df.head(3))"
   ]
  },
  {
   "cell_type": "code",
   "execution_count": 150,
   "id": "33f95e83",
   "metadata": {},
   "outputs": [
    {
     "name": "stdout",
     "output_type": "stream",
     "text": [
      "step 1: DATA QUALITY ASSESSMENT\n",
      "==================================================\n"
     ]
    }
   ],
   "source": [
    "# STEP- COMPLETE DATA QUALITY CHECK\n",
    "\n",
    "print(\"step 1: DATA QUALITY ASSESSMENT\")\n",
    "print(\"=\" * 50)"
   ]
  },
  {
   "cell_type": "code",
   "execution_count": 151,
   "id": "27b8b758",
   "metadata": {},
   "outputs": [
    {
     "name": "stdout",
     "output_type": "stream",
     "text": [
      "\n",
      " 📊 Dataset Overview:\n",
      "  shape -> (2920, 8)\n",
      "  columns -> 8\n",
      "  Memory usage -> 182.6KB\n"
     ]
    }
   ],
   "source": [
    "# 1. Bsasic data set info\n",
    "print(f\"\\n 📊 Dataset Overview:\")\n",
    "print(f\"  shape -> {df.shape}\")\n",
    "print(f\"  columns -> {len(df.columns)}\")\n",
    "print(f\"  Memory usage -> {df.memory_usage().sum() / 1024:.1f}KB\")"
   ]
  },
  {
   "cell_type": "code",
   "execution_count": 152,
   "id": "8662ba53",
   "metadata": {},
   "outputs": [
    {
     "name": "stdout",
     "output_type": "stream",
     "text": [
      "\n",
      " 📋 Data Types:\n",
      "Date                  object\n",
      "City                  object\n",
      "Temperature_C        float64\n",
      "Humidity_%           float64\n",
      "Rainfall_mm          float64\n",
      "Wind_Speed_kmh       float64\n",
      "Pressure_hPa         float64\n",
      "Weather_Condition     object\n",
      "dtype: object\n"
     ]
    }
   ],
   "source": [
    "# 2. Data types\n",
    "print(f\"\\n 📋 Data Types:\")\n",
    "print(df.dtypes)"
   ]
  },
  {
   "cell_type": "code",
   "execution_count": 153,
   "id": "eb8de011",
   "metadata": {},
   "outputs": [
    {
     "name": "stdout",
     "output_type": "stream",
     "text": [
      "\n",
      "📋column names:\n",
      "['Date', 'City', 'Temperature_C', 'Humidity_%', 'Rainfall_mm', 'Wind_Speed_kmh', 'Pressure_hPa', 'Weather_Condition']\n"
     ]
    }
   ],
   "source": [
    "# 3. column names\n",
    "print(f\"\\n📋column names:\")\n",
    "print(df.columns.tolist())"
   ]
  },
  {
   "cell_type": "code",
   "execution_count": 154,
   "id": "95194275",
   "metadata": {},
   "outputs": [
    {
     "name": "stdout",
     "output_type": "stream",
     "text": [
      "\n",
      " Missing values:❓\n",
      " ✅ No missing values found!\n"
     ]
    }
   ],
   "source": [
    "# 4. Missing values check\n",
    "print(f\"\\n Missing values:❓\")\n",
    "missing_values = df.isnull().sum()\n",
    "if missing_values.sum() == 0:\n",
    "    print(\" ✅ No missing values found!\")\n",
    "else:\n",
    "    print(missing_values[missing_values > 0])"
   ]
  },
  {
   "cell_type": "code",
   "execution_count": 155,
   "id": "25ec8f5d",
   "metadata": {},
   "outputs": [
    {
     "name": "stdout",
     "output_type": "stream",
     "text": [
      "\n",
      "🔁 Duplicate Rows -> 0\n",
      "Success:✅ No Duplicate Rows are found\n",
      "\n",
      " ✅ Data Quality check complited!\n"
     ]
    }
   ],
   "source": [
    "# 5.Duplicate check\n",
    "duplicates = df.duplicated().sum()\n",
    "print(f\"\\n🔁 Duplicate Rows -> {duplicates}\")\n",
    "print(\"Success:✅ No Duplicate Rows are found\")\n",
    "print(\"\\n ✅ Data Quality check complited!\")"
   ]
  },
  {
   "cell_type": "code",
   "execution_count": 156,
   "id": "97aefdb0",
   "metadata": {},
   "outputs": [
    {
     "name": "stdout",
     "output_type": "stream",
     "text": [
      "\n",
      " 👀 First few rows:\n",
      "         Date   City  Temperature_C  Humidity_%  Rainfall_mm  Wind_Speed_kmh  \\\n",
      "0  2024-01-01  Delhi           19.6        70.9          0.2             7.2   \n",
      "1  2024-01-02  Delhi           26.9        69.4          0.0            10.2   \n",
      "2  2024-01-03  Delhi           22.4        64.6          0.0            10.1   \n",
      "3  2024-01-04  Delhi           26.8        74.5          0.0             8.7   \n",
      "4  2024-01-05  Delhi           20.5        45.9          0.0             8.0   \n",
      "\n",
      "   Pressure_hPa Weather_Condition  \n",
      "0        1030.6            Cloudy  \n",
      "1        1033.5     Partly Cloudy  \n",
      "2        1015.2             Clear  \n",
      "3         986.0             Clear  \n",
      "4        1022.4             Clear  \n"
     ]
    }
   ],
   "source": [
    "# 6. First few rows\n",
    "print(f\"\\n 👀 First few rows:\")\n",
    "print(df.head())\n"
   ]
  },
  {
   "cell_type": "markdown",
   "id": "4bf10730",
   "metadata": {},
   "source": [
    "# 📊 EXPLORATORY DATA ANALYSIS"
   ]
  },
  {
   "cell_type": "code",
   "execution_count": 157,
   "id": "1e3a65a9",
   "metadata": {},
   "outputs": [
    {
     "name": "stdout",
     "output_type": "stream",
     "text": [
      "📊 STEP 2: STATISTICAL SUMMARY\n",
      "==================================================\n"
     ]
    }
   ],
   "source": [
    "# step 2 : STATISTICAL SUMMARY\n",
    "print(\"📊 STEP 2: STATISTICAL SUMMARY\")\n",
    "print(\"=\" * 50)"
   ]
  },
  {
   "cell_type": "code",
   "execution_count": 158,
   "id": "cfe51f9f",
   "metadata": {},
   "outputs": [
    {
     "name": "stdout",
     "output_type": "stream",
     "text": [
      "\n",
      "🔢 Complete statistical summary:\n",
      "       Temperature_C   Humidity_%  Rainfall_mm  Wind_Speed_kmh  Pressure_hPa\n",
      "count    2920.000000  2920.000000  2920.000000     2920.000000   2920.000000\n",
      "mean       26.181918    70.071507     1.620548        8.830651   1012.866336\n",
      "std         6.418617    15.710430     4.864070        3.550940     11.994633\n",
      "min        11.600000    20.000000     0.000000        0.000000    970.900000\n",
      "25%        21.300000    58.800000     0.000000        6.500000   1004.800000\n",
      "50%        26.100000    70.200000     0.000000        8.800000   1012.800000\n",
      "75%        31.300000    81.400000     0.000000       11.100000   1021.025000\n",
      "max        44.000000   100.000000    57.100000       21.300000   1053.500000\n"
     ]
    }
   ],
   "source": [
    "# 1.Overall statistical summary\n",
    "print(\"\\n🔢 Complete statistical summary:\")\n",
    "print(df.describe())"
   ]
  },
  {
   "cell_type": "code",
   "execution_count": 159,
   "id": "049da7b5",
   "metadata": {},
   "outputs": [
    {
     "name": "stdout",
     "output_type": "stream",
     "text": [
      "\n",
      "🌡️ TEMPERATURE INSIGHTS:\n",
      "   Hottest recorded -> 44.0°C\n",
      "   Coldest recorded -> 11.6°C\n",
      "   Average temperature -> 26.2°C\n",
      "   Temperature range -> 32.4°C\n"
     ]
    }
   ],
   "source": [
    "# 2. Temperature insights \n",
    "print(f\"\\n🌡️ TEMPERATURE INSIGHTS:\")\n",
    "print(f\"   Hottest recorded -> {df['Temperature_C'].max()}°C\")\n",
    "print(f\"   Coldest recorded -> {df['Temperature_C'].min()}°C\") \n",
    "print(f\"   Average temperature -> {df['Temperature_C'].mean():.1f}°C\")\n",
    "print(f\"   Temperature range -> {df['Temperature_C'].max() - df['Temperature_C'].min()}°C\")\n"
   ]
  },
  {
   "cell_type": "code",
   "execution_count": 160,
   "id": "98f101ea",
   "metadata": {},
   "outputs": [
    {
     "name": "stdout",
     "output_type": "stream",
     "text": [
      "\n",
      "🌧️ RAINFALL INSIGHTS:\n",
      "\n",
      " Maximum rainfall -> 57.1 mm\n",
      " Average rainfall -> 1.6mm\n",
      " Days with no rain -> 2356\n"
     ]
    }
   ],
   "source": [
    "# 3. Rainfall insights  \n",
    "print(f\"\\n🌧️ RAINFALL INSIGHTS:\")\n",
    "print(f\"\\n Maximum rainfall -> {df['Rainfall_mm'].max()} mm\")\n",
    "print(f\" Average rainfall -> {df['Rainfall_mm'].mean():.1f}mm\")\n",
    "print(f\" Days with no rain -> {(df['Rainfall_mm'] == 0).sum()}\")"
   ]
  },
  {
   "cell_type": "code",
   "execution_count": 161,
   "id": "9caa82a7",
   "metadata": {},
   "outputs": [
    {
     "name": "stdout",
     "output_type": "stream",
     "text": [
      "\n",
      "💧 HUMIDITY INSIGHTS:\n",
      "  Highest humidity -> 100.0%\n",
      "  Lowest humidity -> 20.0%\n",
      "  Average humidity -> 70.1%\n"
     ]
    }
   ],
   "source": [
    "# 4. Humidity insights\n",
    "print(f\"\\n💧 HUMIDITY INSIGHTS:\")\n",
    "print(f\"  Highest humidity -> {df['Humidity_%'].max()}%\")\n",
    "print(f\"  Lowest humidity -> {df['Humidity_%'].min()}%\")\n",
    "print(f\"  Average humidity -> {df['Humidity_%'].mean():.1f}%\")"
   ]
  },
  {
   "cell_type": "code",
   "execution_count": 162,
   "id": "25b27675",
   "metadata": {},
   "outputs": [
    {
     "name": "stdout",
     "output_type": "stream",
     "text": [
      "\n",
      "💨 WIND SPEED INSIGHTS:\n",
      "   Strongest wind -> 21.3 km/h\n",
      "   Average wind speed -> 8.8 km/h\n",
      "   Calm days (wind < 5) -> 405\n"
     ]
    }
   ],
   "source": [
    "#5. Wind speed insights\n",
    "print(f\"\\n💨 WIND SPEED INSIGHTS:\")\n",
    "print(f\"   Strongest wind -> {df['Wind_Speed_kmh'].max()} km/h\")\n",
    "print(f\"   Average wind speed -> {df['Wind_Speed_kmh'].mean():.1f} km/h\")\n",
    "print(f\"   Calm days (wind < 5) -> {(df['Wind_Speed_kmh'] < 5).sum()}\")"
   ]
  },
  {
   "cell_type": "code",
   "execution_count": 163,
   "id": "bb1ec18d",
   "metadata": {},
   "outputs": [
    {
     "name": "stdout",
     "output_type": "stream",
     "text": [
      "\n",
      "🏙️ CITY-WISE TEMPERATURE SUMMARY:\n",
      "           Avg_Temp  Min_Temp  Max_Temp\n",
      "City                                   \n",
      "Chennai        29.2      22.0      38.0\n",
      "Ahmedabad      27.9      12.4      44.0\n",
      "Mumbai         27.9      18.0      36.0\n",
      "Hyderabad      26.3      16.0      40.5\n",
      "Kolkata        25.8      12.0      38.0\n",
      "Delhi          25.2      11.6      39.8\n",
      "Pune           24.2      12.0      38.0\n",
      "Bangalore      23.0      15.0      32.0\n",
      "\n",
      "🏙️ CITY-WISE RAINFALL SUMMARY:\n",
      "           Avg_Daily_Rain  Total_Rain\n",
      "City                                 \n",
      "Ahmedabad             1.9       678.9\n",
      "Hyderabad             1.8       657.2\n",
      "Chennai               1.8       654.7\n",
      "Kolkata               1.6       592.3\n",
      "Pune                  1.6       583.4\n",
      "Bangalore             1.6       572.9\n",
      "Delhi                 1.5       533.4\n",
      "Mumbai                1.3       459.2\n",
      "\n",
      "✅ step 2B Complete: Statistical Summary Done!\n"
     ]
    }
   ],
   "source": [
    "# 6. City wise summary\n",
    "print(f\"\\n🏙️ CITY-WISE TEMPERATURE SUMMARY:\")\n",
    "city_temp_summary = df.groupby('City')['Temperature_C'].agg(['mean', 'min', 'max']).round(1)\n",
    "city_temp_summary.columns = ['Avg_Temp', 'Min_Temp', 'Max_Temp']\n",
    "print(city_temp_summary.sort_values('Avg_Temp', ascending = False))\n",
    "\n",
    "print(f\"\\n🏙️ CITY-WISE RAINFALL SUMMARY:\")\n",
    "city_rain_summary = df.groupby('City')['Rainfall_mm'].agg(['mean', 'sum']).round(1)\n",
    "city_rain_summary.columns = ['Avg_Daily_Rain','Total_Rain']\n",
    "print(city_rain_summary.sort_values('Total_Rain', ascending=False))\n",
    "\n",
    "print(\"\\n✅ step 2B Complete: Statistical Summary Done!\")"
   ]
  },
  {
   "cell_type": "markdown",
   "id": "2effed7e",
   "metadata": {},
   "source": [
    "# 📈 DETAILED ANALYSIS & INSIGHTS"
   ]
  },
  {
   "cell_type": "code",
   "execution_count": 164,
   "id": "6e40c465",
   "metadata": {},
   "outputs": [],
   "source": [
    "import matplotlib.pyplot as plt\n",
    "import numpy as np"
   ]
  },
  {
   "cell_type": "markdown",
   "id": "197a385d",
   "metadata": {},
   "source": [
    "# 🎬📊🎨 Our stage is set - Matplotlib steps in to color the canvas 🎬📊🎨"
   ]
  },
  {
   "cell_type": "code",
   "execution_count": 165,
   "id": "be3b2b66",
   "metadata": {},
   "outputs": [],
   "source": [
    "import os\n",
    "import matplotlib.pyplot as plt\n",
    "\n",
    "# ✅ Universal Output Path\n",
    "OUTPUT_PATH = r\"D:\\Weather_Data_Analysis_Project\\Outputs\"\n",
    "os.makedirs(OUTPUT_PATH, exist_ok=True)\n",
    "\n",
    "def save_output(filename):\n",
    "    \"\"\"\n",
    "    Save figure to the universal Outputs folder.\n",
    "    Usage: save_output(\"graph1.png\")\n",
    "    \"\"\"\n",
    "    filepath = os.path.join(OUTPUT_PATH, filename)\n",
    "    plt.savefig(filepath, bbox_inches=\"tight\")\n",
    "    plt.close()\n",
    "    print(f\"✅ Saved: {filepath}\")\n"
   ]
  },
  {
   "cell_type": "code",
   "execution_count": 166,
   "id": "5b6734ff",
   "metadata": {},
   "outputs": [
    {
     "name": "stdout",
     "output_type": "stream",
     "text": [
      "📈 STEP 2C: CREATING FIRST VISUALIZATIONS\n",
      "==================================================\n",
      "✅ Saved: D:\\Weather_Data_Analysis_Project\\Outputs\\weather analysis.png\n",
      "💾 Chart saved successfully in Outputs folder!\n",
      "\n",
      "📊 KEY INSIGHTS FROM VISUALIZATIONS:\n",
      "🔥 Hottest City: Chennai (29.2°C)\n",
      "🌧️ Wettest City: Ahmedabad (679mm total)\n",
      "💧 Average Humidity: 70.1%\n",
      "🌡️ Temperature Range: 11.6°C to 44.0°C\n",
      "\n",
      "✅ Step 2C Complete: First Professional Visualizations Created!\n"
     ]
    }
   ],
   "source": [
    "# 📈 STEP 2C: FIRST PROFESSIONAL VISUALIZATION\n",
    "import os\n",
    "import matplotlib.pyplot as plt\n",
    "\n",
    "print(\"📈 STEP 2C: CREATING FIRST VISUALIZATIONS\")\n",
    "print(\"=\" * 50)\n",
    "\n",
    "# ✅ Ensure Outputs folder exists (outside Notebooks)\n",
    "os.makedirs('../Outputs', exist_ok=True)\n",
    "\n",
    "# Create figure with subplots\n",
    "fig, ((ax1, ax2), (ax3, ax4)) = plt.subplots(2, 2, figsize=(15, 12))\n",
    "fig.suptitle('🌦️ WEATHER DATA ANALYSIS - KEY INSIGHTS', fontsize=16, fontweight='bold')\n",
    "\n",
    "# 1. Average Temperature by City\n",
    "city_temp_avg = df.groupby('City')['Temperature_C'].mean().sort_values(ascending=False)\n",
    "ax1.bar(city_temp_avg.index, city_temp_avg.values, color='orangered', alpha=0.7)\n",
    "ax1.set_title('🌡️ Average Temperature by City', fontweight='bold')\n",
    "ax1.set_ylabel('Temperature (°C)')\n",
    "ax1.tick_params(axis='x', rotation=45)\n",
    "ax1.grid(True, alpha=0.3)\n",
    "\n",
    "# Add value labels on bars\n",
    "for i, v in enumerate(city_temp_avg.values):\n",
    "    ax1.text(i, v + 0.5, f'{v:.1f}°C', ha='center', fontweight='bold')\n",
    "\n",
    "# 2. Total Rainfall by City\n",
    "city_rain_total = df.groupby('City')['Rainfall_mm'].sum().sort_values(ascending=False)\n",
    "ax2.bar(city_rain_total.index, city_rain_total.values, color='skyblue', alpha=0.7)\n",
    "ax2.set_title('🌧️ Total Rainfall by City', fontweight='bold')\n",
    "ax2.set_ylabel('Total Rainfall (mm)')\n",
    "ax2.tick_params(axis='x', rotation=45)\n",
    "ax2.grid(True, alpha=0.3)\n",
    "\n",
    "# Add value labels on bars\n",
    "for i, v in enumerate(city_rain_total.values):\n",
    "    ax2.text(i, v + 20, f'{v:.0f}mm', ha='center', fontweight='bold')\n",
    "\n",
    "# 3. Humidity Distribution\n",
    "ax3.hist(df['Humidity_%'], bins=20, color='lightgreen', alpha=0.7, edgecolor='black')\n",
    "ax3.set_title('💧 Humidity Distribution', fontweight='bold')\n",
    "ax3.set_xlabel('Humidity (%)')\n",
    "ax3.set_ylabel('Frequency')\n",
    "ax3.grid(True, alpha=0.3)\n",
    "\n",
    "# 4. Temperature vs Humidity Scatter\n",
    "ax4.scatter(df['Temperature_C'], df['Humidity_%'], alpha=0.6, color='purple')\n",
    "ax4.set_title('🌡️ Temperature vs Humidity Relationship', fontweight='bold')\n",
    "ax4.set_xlabel('Temperature (°C)')\n",
    "ax4.set_ylabel('Humidity (%)')\n",
    "ax4.grid(True, alpha=0.3)\n",
    "\n",
    "# Adjust layout FIRST\n",
    "plt.tight_layout()\n",
    "\n",
    "# ✅ SAVE FIRST (outside Notebooks folder)\n",
    "save_output(\"weather analysis.png\")\n",
    "\n",
    "\n",
    "\n",
    "\n",
    "print(\"💾 Chart saved successfully in Outputs folder!\")\n",
    "\n",
    "# THEN SHOW\n",
    "plt.show()\n",
    "\n",
    "print(\"\\n📊 KEY INSIGHTS FROM VISUALIZATIONS:\")\n",
    "print(f\"🔥 Hottest City: {city_temp_avg.index[0]} ({city_temp_avg.values[0]:.1f}°C)\")\n",
    "print(f\"🌧️ Wettest City: {city_rain_total.index[0]} ({city_rain_total.values[0]:.0f}mm total)\")\n",
    "print(f\"💧 Average Humidity: {df['Humidity_%'].mean():.1f}%\")\n",
    "print(f\"🌡️ Temperature Range: {df['Temperature_C'].min():.1f}°C to {df['Temperature_C'].max():.1f}°C\")\n",
    "\n",
    "print(\"\\n✅ Step 2C Complete: First Professional Visualizations Created!\")\n"
   ]
  },
  {
   "cell_type": "markdown",
   "id": "4de94cb2",
   "metadata": {},
   "source": [
    "# 🎨 ADVANCED VISUALIZATIONS"
   ]
  },
  {
   "cell_type": "code",
   "execution_count": 167,
   "id": "92bd40e7",
   "metadata": {},
   "outputs": [
    {
     "name": "stdout",
     "output_type": "stream",
     "text": [
      "🎨 SECTION 6: PROFESSIONAL DATA VISUALIZATIONS\n",
      "============================================================\n",
      "\n",
      "📊 Creating Visualization 1: City Comparison Dashboard...\n",
      "✅ Saved: D:\\Weather_Data_Analysis_Project\\Outputs\\city_weather_comaprison.png\n",
      "\n",
      "📊 Creating Visualization 2: Weather Relationships...\n",
      "✅ Saved: D:\\Weather_Data_Analysis_Project\\Outputs\\weather pattern and relationship.png\n",
      "\n",
      "🎯 VISUALIZATION INSIGHTS:\n",
      "🔥 Temperature Leader: Chennai (29.2°C)\n",
      "🌧️ Rainfall Leader: Ahmedabad (679mm)\n",
      "💧 Most Humid: Mumbai (84.9%)\n",
      "💨 Windiest: Mumbai (12.1 km/h)\n",
      "\n",
      "🔗 Strongest Correlations:\n",
      "   Temperature_C vs Wind_Speed_kmh: 0.139\n",
      "\n",
      "✅ Section 6 Complete: Professional Visualizations Created!\n",
      "💾 Charts saved: city_comparison_dashboard.png & weather_relationships.png\n"
     ]
    }
   ],
   "source": [
    "# 🎨 SECTION 6: ADVANCED DATA VISUALIZATIONS\n",
    "print(\"🎨 SECTION 6: PROFESSIONAL DATA VISUALIZATIONS\")\n",
    "print(\"=\" * 60)\n",
    "\n",
    "# Set up the plotting style\n",
    "plt.style.use('default')\n",
    "if 'sns' in globals():\n",
    "    sns.set_palette(\"husl\")\n",
    "\n",
    "# VISUALIZATION 1: Comprehensive City Comparison\n",
    "print(\"\\n📊 Creating Visualization 1: City Comparison Dashboard...\")\n",
    "fig, ((ax1, ax2), (ax3, ax4)) = plt.subplots(2, 2, figsize=(16, 12))\n",
    "fig.suptitle('🏙️ COMPREHENSIVE CITY WEATHER COMPARISON', fontsize=18, fontweight='bold')\n",
    "\n",
    "# Temperature comparison with enhanced styling\n",
    "city_temp = df.groupby('City')['Temperature_C'].mean().sort_values(ascending=False)\n",
    "colors1 = ['red' if city == city_temp.index[0] else 'orange' for city in city_temp.index]\n",
    "bars1 = ax1.bar(city_temp.index, city_temp.values, color=colors1, alpha=0.8)\n",
    "ax1.set_title('🌡️ Average Temperature by City', fontsize=14, fontweight='bold')\n",
    "ax1.set_ylabel('Temperature (°C)', fontweight='bold')\n",
    "ax1.tick_params(axis='x', rotation=45)\n",
    "ax1.grid(True, alpha=0.3)\n",
    "\n",
    "# Add value labels\n",
    "for bar, value in zip(bars1, city_temp.values):\n",
    "    ax1.text(bar.get_x() + bar.get_width()/2, bar.get_height() + 0.5, \n",
    "             f'{value:.1f}°C', ha='center', fontweight='bold')\n",
    "\n",
    "# Rainfall comparison\n",
    "city_rain = df.groupby('City')['Rainfall_mm'].sum().sort_values(ascending=False)\n",
    "colors2 = ['blue' if city == city_rain.index[0] else 'lightblue' for city in city_rain.index]\n",
    "bars2 = ax2.bar(city_rain.index, city_rain.values, color=colors2, alpha=0.8)\n",
    "ax2.set_title('🌧️ Total Rainfall by City', fontsize=14, fontweight='bold')\n",
    "ax2.set_ylabel('Total Rainfall (mm)', fontweight='bold')\n",
    "ax2.tick_params(axis='x', rotation=45)\n",
    "ax2.grid(True, alpha=0.3)\n",
    "\n",
    "# Add value labels\n",
    "for bar, value in zip(bars2, city_rain.values):\n",
    "    ax2.text(bar.get_x() + bar.get_width()/2, bar.get_height() + 50, \n",
    "             f'{value:.0f}mm', ha='center', fontweight='bold')\n",
    "\n",
    "# Humidity comparison\n",
    "city_humidity = df.groupby('City')['Humidity_%'].mean().sort_values(ascending=False)\n",
    "bars3 = ax3.bar(city_humidity.index, city_humidity.values, color='lightgreen', alpha=0.8)\n",
    "ax3.set_title('💧 Average Humidity by City', fontsize=14, fontweight='bold')\n",
    "ax3.set_ylabel('Humidity (%)', fontweight='bold')\n",
    "ax3.tick_params(axis='x', rotation=45)\n",
    "ax3.grid(True, alpha=0.3)\n",
    "\n",
    "# Wind speed comparison\n",
    "city_wind = df.groupby('City')['Wind_Speed_kmh'].mean().sort_values(ascending=False)\n",
    "bars4 = ax4.bar(city_wind.index, city_wind.values, color='purple', alpha=0.8)\n",
    "ax4.set_title('💨 Average Wind Speed by City', fontsize=14, fontweight='bold')\n",
    "ax4.set_ylabel('Wind Speed (km/h)', fontweight='bold')\n",
    "ax4.tick_params(axis='x', rotation=45)\n",
    "ax4.grid(True, alpha=0.3)\n",
    "\n",
    "plt.tight_layout()\n",
    "save_output(\"city_weather_comaprison.png\")\n",
    "plt.show()\n",
    "\n",
    "# VISUALIZATION 2: Weather Patterns & Relationships\n",
    "print(\"\\n📊 Creating Visualization 2: Weather Relationships...\")\n",
    "fig, ((ax1, ax2), (ax3, ax4)) = plt.subplots(2, 2, figsize=(16, 12))\n",
    "fig.suptitle('🔗 WEATHER PATTERNS & RELATIONSHIPS', fontsize=18, fontweight='bold')\n",
    "\n",
    "# Temperature vs Humidity scatter with city colors\n",
    "cities = df['City'].unique()\n",
    "colors = plt.cm.tab10(np.linspace(0, 1, len(cities)))\n",
    "for i, city in enumerate(cities):\n",
    "    city_data = df[df['City'] == city]\n",
    "    ax1.scatter(city_data['Temperature_C'], city_data['Humidity_%'], \n",
    "                label=city, alpha=0.7, color=colors[i])\n",
    "ax1.set_title('🌡️ Temperature vs Humidity by City', fontsize=14, fontweight='bold')\n",
    "ax1.set_xlabel('Temperature (°C)', fontweight='bold')\n",
    "ax1.set_ylabel('Humidity (%)', fontweight='bold')\n",
    "ax1.legend(bbox_to_anchor=(1.05, 1), loc='upper left')\n",
    "ax1.grid(True, alpha=0.3)\n",
    "\n",
    "# Weather condition distribution\n",
    "weather_counts = df['Weather_Condition'].value_counts()\n",
    "colors_weather = plt.cm.Set3(np.linspace(0, 1, len(weather_counts)))\n",
    "ax2.pie(weather_counts.values, labels=weather_counts.index, autopct='%1.1f%%', \n",
    "        colors=colors_weather, startangle=90)\n",
    "ax2.set_title('🌦️ Weather Conditions Distribution', fontsize=14, fontweight='bold')\n",
    "\n",
    "# Monthly temperature trend (if applicable)\n",
    "if 'Month' in df.columns:\n",
    "    monthly_avg = df.groupby('Month')['Temperature_C'].mean()\n",
    "    ax3.plot(monthly_avg.index, monthly_avg.values, marker='o', linewidth=3, markersize=8, color='red')\n",
    "    ax3.set_title('📅 Monthly Temperature Trend', fontsize=14, fontweight='bold')\n",
    "    ax3.set_ylabel('Average Temperature (°C)', fontweight='bold')\n",
    "    ax3.tick_params(axis='x', rotation=45)\n",
    "    ax3.grid(True, alpha=0.3)\n",
    "else:\n",
    "    # Temperature distribution histogram\n",
    "    ax3.hist(df['Temperature_C'], bins=25, color='orange', alpha=0.7, edgecolor='black')\n",
    "    ax3.set_title('🌡️ Temperature Distribution', fontsize=14, fontweight='bold')\n",
    "    ax3.set_xlabel('Temperature (°C)', fontweight='bold')\n",
    "    ax3.set_ylabel('Frequency', fontweight='bold')\n",
    "    ax3.grid(True, alpha=0.3)\n",
    "\n",
    "# Correlation heatmap\n",
    "corr_data = df[['Temperature_C', 'Humidity_%', 'Rainfall_mm', 'Wind_Speed_kmh', 'Pressure_hPa']].corr()\n",
    "im = ax4.imshow(corr_data, cmap='coolwarm', aspect='auto', vmin=-1, vmax=1)\n",
    "ax4.set_title('🔗 Weather Parameters Correlation', fontsize=14, fontweight='bold')\n",
    "ax4.set_xticks(range(len(corr_data.columns)))\n",
    "ax4.set_yticks(range(len(corr_data.columns)))\n",
    "ax4.set_xticklabels(['Temp', 'Humidity', 'Rainfall', 'Wind', 'Pressure'], rotation=45)\n",
    "ax4.set_yticklabels(['Temp', 'Humidity', 'Rainfall', 'Wind', 'Pressure'])\n",
    "\n",
    "# Add correlation values to heatmap\n",
    "for i in range(len(corr_data.columns)):\n",
    "    for j in range(len(corr_data.columns)):\n",
    "        text = ax4.text(j, i, f'{corr_data.iloc[i, j]:.2f}',\n",
    "                       ha=\"center\", va=\"center\", color=\"black\", fontweight='bold')\n",
    "\n",
    "plt.tight_layout()\n",
    "save_output(\"weather pattern and relationship.png\")\n",
    "plt.show()\n",
    "\n",
    "print(\"\\n🎯 VISUALIZATION INSIGHTS:\")\n",
    "print(f\"🔥 Temperature Leader: {city_temp.index[0]} ({city_temp.values[0]:.1f}°C)\")\n",
    "print(f\"🌧️ Rainfall Leader: {city_rain.index[0]} ({city_rain.values[0]:.0f}mm)\")\n",
    "print(f\"💧 Most Humid: {city_humidity.index[0]} ({city_humidity.values[0]:.1f}%)\")\n",
    "print(f\"💨 Windiest: {city_wind.index[0]} ({city_wind.values[0]:.1f} km/h)\")\n",
    "\n",
    "print(f\"\\n🔗 Strongest Correlations:\")\n",
    "corr_values = corr_data.abs().values\n",
    "np.fill_diagonal(corr_values, 0)\n",
    "max_corr_idx = np.unravel_index(np.argmax(corr_values), corr_values.shape)\n",
    "param1 = corr_data.columns[max_corr_idx[0]]\n",
    "param2 = corr_data.columns[max_corr_idx[1]]\n",
    "corr_value = corr_data.iloc[max_corr_idx[0], max_corr_idx[1]]\n",
    "print(f\"   {param1} vs {param2}: {corr_value:.3f}\")\n",
    "\n",
    "print(\"\\n✅ Section 6 Complete: Professional Visualizations Created!\")\n",
    "print(\"💾 Charts saved: city_comparison_dashboard.png & weather_relationships.png\")"
   ]
  },
  {
   "cell_type": "markdown",
   "id": "150314c9",
   "metadata": {},
   "source": [
    "# 📝 FINAL INSIGHTS & CONCLUSIONS"
   ]
  },
  {
   "cell_type": "markdown",
   "id": "6da07307",
   "metadata": {},
   "source": [
    "# 📝SECTION 7 : KEY INSIGHTS AND CONCLUSIONS"
   ]
  },
  {
   "cell_type": "code",
   "execution_count": 168,
   "id": "9642213c",
   "metadata": {},
   "outputs": [
    {
     "name": "stdout",
     "output_type": "stream",
     "text": [
      "📝 SECTION 7: KEY INSIGHTS AND CONCLUSIONS\n",
      "=============================================\n",
      "\n",
      " 🎯 EXECUTIVE SUMMARY OF FINDINGS:\n",
      "=============================================\n",
      "\n",
      "🔥 TEMPERATURE INSIGHTS:\n",
      "   🥇 Hottest city -> Chennai (29.2°C average)\n",
      "   🥶 Coolest City -> Bangalore (23.0°C average)\n",
      "   📊 Temperature Range -> 6.2°C difference between hottest and coolest\n",
      "\n",
      "🌧️ RAINFALL INSIGHTS:\n",
      "   🥇 Wettest City -> Ahmedabad (679mm total)\n",
      "   🏜️ Driest City -> Mumbai (459mm total)\n",
      "   📊 Rainfall Variation -> 48% more rain in wettest vs driest\n",
      "\n",
      "💧 HUMIDITY INSIGHTS:\n",
      "   🥇 Most Humid -> Mumbai (84.9% average)\n",
      "   🏜️ Least Humid -> Ahmedabad (54.5% average)\n",
      "\n",
      "🌦️ WEATHER CONDITIONS\n",
      "   Most Common -> Clear (1029 days)\n",
      "   Least Common -> Thunderstorm (52 days)\n",
      "\n",
      "🔗 RELATIONSHIP INSIGHTS:\n",
      "   Temperature-Rainfall -> Weak relationsship (-0.089)\n",
      "\n",
      "🌏 REGIONAL PATTERNS:\n",
      "  Dataset covers 8 major Indian cities.\n",
      "  Total weather records analyzed -> 2,920\n",
      "  Data quality -> 12.5% complete\n",
      "\n",
      "🎯 TOP 3 ACTIONABLE INSIGHTS:\n",
      "  1. Chennai requires heat management strategies.\n",
      "  2. Ahmedabad needs enhanced monsoon preparedness.\n",
      "  3. Weather diversity across 8 cities offers regional planning oppourtunities.\n",
      "\n",
      "📊 RESEARCH QUESTIONS ANSWERED:\n",
      "  ✅ Question 1: Highest average temperature -> Chennai\n",
      "  ✅ Question 4: Most rainfall annually -> Ahmedabad\n",
      "  ✅ Question 7: Temperature-humidity correlation -> -0.043\n",
      "  ✅ Regional comparisons completed across all 8 cities.\n",
      "\n",
      "✅ Section 7 completed: Key Insights Documented!\n"
     ]
    }
   ],
   "source": [
    "print(\"📝 SECTION 7: KEY INSIGHTS AND CONCLUSIONS\")\n",
    "print(\"=\" * 45)\n",
    "\n",
    "#  Gernerate final summary insights\n",
    "print(\"\\n 🎯 EXECUTIVE SUMMARY OF FINDINGS:\")\n",
    "print(\"=\" * 45)\n",
    "\n",
    "# Key finding from our analysis\n",
    "city_temp_avg = df.groupby('City')['Temperature_C'].mean().sort_values(ascending = False)\n",
    "city_rain_total= df.groupby('City')['Rainfall_mm'].sum().sort_values(ascending = False)\n",
    "city_humidity_avg = df.groupby('City')['Humidity_%'].mean().sort_values(ascending = False)\n",
    "\n",
    "print(f\"\\n🔥 TEMPERATURE INSIGHTS:\")\n",
    "print(f\"   🥇 Hottest city -> {city_temp_avg.index[0]} ({city_temp_avg.iloc[0]:.1f}°C average)\")\n",
    "print(f\"   🥶 Coolest City -> {city_temp_avg.index[-1]} ({city_temp_avg.iloc[-1]:.1f}°C average)\")\n",
    "print(f\"   📊 Temperature Range -> {city_temp_avg.iloc[0] - city_temp_avg.iloc[-1]:.1f}°C difference between hottest and coolest\")\n",
    "\n",
    "print(f\"\\n🌧️ RAINFALL INSIGHTS:\")\n",
    "print(f\"   🥇 Wettest City -> {city_rain_total.index[0]} ({city_rain_total.iloc[0]:.0f}mm total)\")\n",
    "print(f\"   🏜️ Driest City -> {city_rain_total.index[-1]} ({city_rain_total.iloc[-1]:.0f}mm total)\")\n",
    "print(f\"   📊 Rainfall Variation -> {((city_rain_total.iloc[0] / city_rain_total.iloc[-1]) - 1) * 100:.0f}% more rain in wettest vs driest\")\n",
    "\n",
    "print(f\"\\n💧 HUMIDITY INSIGHTS:\")\n",
    "print(f\"   🥇 Most Humid -> {city_humidity_avg.index[0]} ({city_humidity_avg.iloc[0]:.1f}% average)\")\n",
    "print(f\"   🏜️ Least Humid -> {city_humidity_avg.index[-1]} ({city_humidity_avg.iloc[-1]:.1f}% average)\")\n",
    "\n",
    "# Weather condition insights\n",
    "Weather_distribution = df['Weather_Condition'].value_counts()\n",
    "print(f\"\\n🌦️ WEATHER CONDITIONS\") \n",
    "print(f\"   Most Common -> {Weather_distribution.index[0]} ({Weather_distribution.iloc[0]} days)\")\n",
    "print(f\"   Least Common -> {Weather_distribution.index[-1]} ({Weather_distribution.iloc[-1]} days)\")\n",
    "\n",
    "# Correlation insights\n",
    "temp_humidity_corr = df['Temperature_C'].corr(df['Humidity_%'])\n",
    "temp_rainfall_corr = df['Temperature_C'].corr(df['Rainfall_mm'])\n",
    "\n",
    "print(f\"\\n🔗 RELATIONSHIP INSIGHTS:\")\n",
    "if abs(temp_humidity_corr) > 0.5:\n",
    "    relationship = \"Strong\" if temp_humidity_corr > 0 else \"Moderate Negative\"\n",
    "    print(f\"  Temperature-Rainfall: {relationship} relationship ({temp_rainfall_corr:.3f})\")\n",
    "else:\n",
    "    print(f\"   Temperature-Rainfall -> Weak relationsship ({temp_rainfall_corr:.3f})\")\n",
    "\n",
    "# Regional patterns\n",
    "print(f\"\\n🌏 REGIONAL PATTERNS:\")\n",
    "print(f\"  Dataset covers {df['City'].nunique()} major Indian cities.\")\n",
    "print(f\"  Total weather records analyzed -> {len(df):,}\")\n",
    "print(f\"  Data quality -> {((len(df) - df.isnull().sum().sum()) / len(df) / len(df.columns) * 100):.1f}% complete\")\n",
    "\n",
    "print(f\"\\n🎯 TOP 3 ACTIONABLE INSIGHTS:\")\n",
    "print(f\"  1. {city_temp_avg.index[0]} requires heat management strategies.\")\n",
    "print(f\"  2. {city_rain_total.index[0]} needs enhanced monsoon preparedness.\")\n",
    "print(f\"  3. Weather diversity across 8 cities offers regional planning oppourtunities.\")\n",
    "\n",
    "print(f\"\\n📊 RESEARCH QUESTIONS ANSWERED:\")\n",
    "print(f\"  ✅ Question 1: Highest average temperature -> {city_temp_avg.index[0]}\")\n",
    "print(f\"  ✅ Question 4: Most rainfall annually -> {city_rain_total.index[0]}\")\n",
    "print(f\"  ✅ Question 7: Temperature-humidity correlation -> {temp_humidity_corr:.3f}\")\n",
    "print(f\"  ✅ Regional comparisons completed across all 8 cities.\")\n",
    "\n",
    "\n",
    "print(\"\\n✅ Section 7 completed: Key Insights Documented!\")\n"
   ]
  },
  {
   "cell_type": "code",
   "execution_count": 169,
   "id": "5595d787",
   "metadata": {},
   "outputs": [
    {
     "name": "stdout",
     "output_type": "stream",
     "text": [
      "🎯 WEATHER DATA ANALYSIS PROJECT - COMPLETION SUMMARY\n",
      "============================================================\n",
      "📊 Dataset -> 2,920 records across 8 cities\n",
      "📈 Analysis completed -> August 31, 2025 at 01:30 AM\n",
      "💾 Visualizations saved -> 3 professional charts in Outputs folder\n",
      "🏆 Project status -> SUCCESSFULLY COMPLETED\n",
      "⭐ Quality level -> INDUSTRY STANDARD\n",
      "\n",
      "🔥 KEY DISCOVERIES:\n",
      "   • Hottest city -> Chennai\n",
      "   • Wettest city -> Ahmedabad\n",
      "   • Weather patterns -> Comprehensive insights documented\n",
      "\n",
      "✅ Ready for portfolio presentation!\n"
     ]
    }
   ],
   "source": [
    "# 🎯 FINAL PROJECT SUMMARY\n",
    "print(\"🎯 WEATHER DATA ANALYSIS PROJECT - COMPLETION SUMMARY\")\n",
    "print(\"=\" * 60)\n",
    "print(f\"📊 Dataset -> {df.shape[0]:,} records across {df['City'].nunique()} cities\")\n",
    "print(f\"📈 Analysis completed -> {datetime.now().strftime('%B %d, %Y at %I:%M %p')}\")\n",
    "print(f\"💾 Visualizations saved -> 3 professional charts in Outputs folder\")\n",
    "print(f\"🏆 Project status -> SUCCESSFULLY COMPLETED\")\n",
    "print(f\"⭐ Quality level -> INDUSTRY STANDARD\")\n",
    "print(\"\\n🔥 KEY DISCOVERIES:\")\n",
    "print(f\"   • Hottest city -> {df.groupby('City')['Temperature_C'].mean().idxmax()}\")\n",
    "print(f\"   • Wettest city -> {df.groupby('City')['Rainfall_mm'].sum().idxmax()}\")\n",
    "print(f\"   • Weather patterns -> Comprehensive insights documented\")\n",
    "print(\"\\n✅ Ready for portfolio presentation!\")"
   ]
  },
  {
   "cell_type": "markdown",
   "id": "c888cb6e",
   "metadata": {},
   "source": [
    "# 🚀 SECTION 8 : FUTURE IMPROVEMENT AND ACTION PLAN"
   ]
  },
  {
   "cell_type": "markdown",
   "id": "1a4f9df2",
   "metadata": {},
   "source": [
    "# 🔮 Vision Forward: Evolving the Weather Data Analysis Project:\n",
    "\n",
    "What began as a simple technical exercise has now transformed into something greater a bridge between data science, creativity and devotion. This project is no longer just about charts and number; it is about telling the story of weather, patterns, and rhythms of nature in a way that resonates both scientifically and spiritually.\n",
    "\n",
    "## 🌍 Broadening the Horizon: Data & Scope:\n",
    "\n",
    "- Expand beyond single dataset by integrating multi-city, multy-year records for richer climate insights.\n",
    "- Add parameters like humidity, wind speed, and air quality to enrich analysis.\n",
    "- Explore seasonal and regional trends to uncover hidden patterns.\n",
    "\n",
    "## 📊 Visual Storytelling: Beyond Static Charts:\n",
    "\n",
    "- Introduce interactive dashboards using plotly or Dash to make exploration dynamic.\n",
    "- Create a signature visualization - a radial \"Climate Mandal\" that symbolizes weather rhythms,designed as a tribute to \"LORD JAGANNATH\".\n",
    "- Refines preasentation to balance both technical accuracy and aesthetic depth.\n",
    "\n",
    "## 🤖 Intelligence in Action: Forecasting & Prediction\n",
    "\n",
    "- Implemet predicative models like ARIMA, Prophet and LSTM to forecast rainfall, temperature and anomalies.\n",
    "- Compare model accuracy, and visualize predictions with confidence intervals to make results reliable and clear.\n",
    "\n",
    "## ⚙️ Real-Time Power: Automation & Updates\n",
    "\n",
    "- Integrates live weather APIs (e.g., OpenWeathrMap) to keep the dataset current.\n",
    "- Build automated scripts for daily updates, ensuring visualizations envolve with time.\n",
    "\n",
    "## 🌐 Reaching the World: Deployment & Access\n",
    "\n",
    "- Develop a web app using Streamlit or Flask, making the project accessible to anyone.\n",
    "- Provide an interface where users can explore trends, interact with forecasts, and view unique visualizations.\n",
    "\n",
    "## 🤝 Growing Together: Open Source Collaboration\n",
    "\n",
    "- Publish on Github with structured documentation, contribution guidelines, and issue tracking.\n",
    "- Invite peers and enthusiasts to contributes datasets, improve feathers and expand the project`s scope.\n",
    "\n",
    "## ✅ Roadmap: Milestones Ahead  \n",
    "\n",
    "| 🚀 Phase       | ⏳ Timeline    | 🎯 Goals |\n",
    "|----------------|---------------|------------------------------------------------|\n",
    "| **Short-Term** | 📅 1–2 months | 🔧 Refactor code, 📊 expand dataset, 🎨 polish visuals |\n",
    "| **Mid-Term**   | 📅 3–6 months | 🤖 Integrate ML models, 📈 add interactive dashboards, ⚙️ set up automation |\n",
    "| **Long-Term**  | 📅 6+ months  | 🌐 Deploy as a web app, 🔄 maintain updates, 🤝 share publicly on GitHub/LinkedIn |\n"
   ]
  },
  {
   "cell_type": "markdown",
   "id": "a6714871",
   "metadata": {},
   "source": [
    "# ✅ Conclusion :\n",
    "\n",
    "The Weather Data Analysis project has successsfully demonstrated how data science can be applied to understand the visualize climate behaviour. Through systematic exploration of temperature and rainfall patterns, enriched with additional parameters, the project highlights the importance of analyzing large dataset for meaningful insights.\n",
    "\n",
    "By implementing advance visualization, the project moves beyond static charts and providesan engaging way to interpret weather trends. The integration of machine learning models will further enhance its predicative capability, while automation and real- time data fetching will ensure that insights remain current and reliable.\n",
    "\n",
    "Looking ahead, deployment as an interactive web application and hosting as an open-source project will expand its accessibility and impact. This journey marks nt just the completion of an analysis, but the beginning of a scalable platform that informs, forecasts, and inspires- bridging technology, science and creativity."
   ]
  }
 ],
 "metadata": {
  "kernelspec": {
   "display_name": "Python 3",
   "language": "python",
   "name": "python3"
  },
  "language_info": {
   "codemirror_mode": {
    "name": "ipython",
    "version": 3
   },
   "file_extension": ".py",
   "mimetype": "text/x-python",
   "name": "python",
   "nbconvert_exporter": "python",
   "pygments_lexer": "ipython3",
   "version": "3.13.7"
  }
 },
 "nbformat": 4,
 "nbformat_minor": 5
}
